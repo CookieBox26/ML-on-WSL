{
 "cells": [
  {
   "cell_type": "markdown",
   "id": "997d4d32-74c4-4e5a-ac7a-a015de1887f5",
   "metadata": {},
   "source": [
    "### Reformer のモデル構造\n",
    "\n",
    "参考： https://github.com/lucidrains/reformer-pytorch"
   ]
  },
  {
   "cell_type": "code",
   "execution_count": 1,
   "id": "2fff1220-9080-4a45-ad9f-60fe43b81f81",
   "metadata": {},
   "outputs": [],
   "source": [
    "import torch\n",
    "import torch.nn as nn\n",
    "from reformer_pytorch import Reformer, LSHSelfAttention\n",
    "from reformer_pytorch.reversible import ReversibleSequence\n",
    "from reformer_pytorch.reversible import ReversibleBlock, IrreversibleBlock\n",
    "from reformer_pytorch.reversible import Deterministic\n",
    "from reformer_pytorch.reformer_pytorch import PreNorm, Chunk\n",
    "\n",
    "model = Reformer(\n",
    "    dim=8,\n",
    "    depth=3,\n",
    "    heads=4,\n",
    "    lsh_dropout=0.0,\n",
    "    causal=True\n",
    ")\n",
    "x = torch.randn(5, 128, 8)\n",
    "y = model(x)\n",
    "assert list(y.shape) == [5, 128, 8]\n",
    "\n",
    "assert type(model.layers) is ReversibleSequence\n",
    "assert type(model.layers.blocks) is nn.ModuleList\n",
    "assert type(model.layers.irrev_blocks) is nn.ModuleList\n",
    "\n",
    "assert len(model.layers.blocks) == 3\n",
    "for i in range(3):\n",
    "    assert type(model.layers.blocks[i]) is ReversibleBlock\n",
    "    assert type(model.layers.blocks[i].f) is Deterministic\n",
    "    assert type(model.layers.blocks[i].f.net) is PreNorm\n",
    "    assert type(model.layers.blocks[i].f.net.norm) is nn.LayerNorm\n",
    "    assert type(model.layers.blocks[i].f.net.fn) is LSHSelfAttention\n",
    "    assert type(model.layers.blocks[i].g) is Deterministic\n",
    "    assert type(model.layers.blocks[i].g.net) is PreNorm\n",
    "    assert type(model.layers.blocks[i].g.net.norm) is nn.LayerNorm\n",
    "    assert type(model.layers.blocks[i].g.net.fn) is Chunk\n",
    "\n",
    "assert len(model.layers.irrev_blocks) == 3\n",
    "for i in range(3):\n",
    "    assert type(model.layers.irrev_blocks[i]) is IrreversibleBlock\n",
    "    assert type(model.layers.irrev_blocks[i].f) is PreNorm\n",
    "    assert type(model.layers.irrev_blocks[i].f.norm) is nn.LayerNorm\n",
    "    assert type(model.layers.irrev_blocks[i].f.fn) is LSHSelfAttention\n",
    "    assert type(model.layers.irrev_blocks[i].g) is PreNorm\n",
    "    assert type(model.layers.irrev_blocks[i].g.norm) is nn.LayerNorm\n",
    "    assert type(model.layers.irrev_blocks[i].g.fn) is Chunk"
   ]
  },
  {
   "cell_type": "code",
   "execution_count": null,
   "id": "0107c71c-c323-4716-947b-34f18f2b5d42",
   "metadata": {},
   "outputs": [],
   "source": []
  }
 ],
 "metadata": {
  "kernelspec": {
   "display_name": "Python 3 (ipykernel)",
   "language": "python",
   "name": "python3"
  },
  "language_info": {
   "codemirror_mode": {
    "name": "ipython",
    "version": 3
   },
   "file_extension": ".py",
   "mimetype": "text/x-python",
   "name": "python",
   "nbconvert_exporter": "python",
   "pygments_lexer": "ipython3",
   "version": "3.8.10"
  }
 },
 "nbformat": 4,
 "nbformat_minor": 5
}
